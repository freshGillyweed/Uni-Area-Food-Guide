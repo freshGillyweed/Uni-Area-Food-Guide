{
  "nbformat": 4,
  "nbformat_minor": 0,
  "metadata": {
    "colab": {
      "provenance": []
    },
    "kernelspec": {
      "name": "python3",
      "display_name": "Python 3"
    },
    "language_info": {
      "name": "python"
    }
  },
  "cells": [
    {
      "cell_type": "markdown",
      "source": [
        "# 식당 목록 화면"
      ],
      "metadata": {
        "id": "KLt_HK5PmXvy"
      }
    },
    {
      "cell_type": "code",
      "execution_count": null,
      "metadata": {
        "colab": {
          "base_uri": "https://localhost:8080/"
        },
        "id": "4hNAYsOLntJZ",
        "outputId": "d05c6969-be1e-41dd-e2bc-2d215a334c96"
      },
      "outputs": [
        {
          "output_type": "stream",
          "name": "stdout",
          "text": [
            "상호명\t\t\t영업여부\t대기\n",
            "*********************************************\n",
            "\n",
            "진돈부리\t\t⭕️\t\t🟦\n",
            "\n",
            "\n",
            "모미지   \t\t❌️\t\t🟥\n",
            "\n",
            "\n",
            "순희다이닝\t\t⭕️\t\t🟦\n",
            "\n",
            "\n",
            "카페티아라\t\t❌️\t\t🟨\n",
            "\n",
            "\n",
            "파체리토타코\t\t⭕️\t\t🟥\n",
            "\n",
            "\n",
            "낭만식탁\t\t⭕️\t\t🟨\n",
            "\n",
            "\n",
            "연어초밥\t\t⭕️\t\t🟥\n",
            "\n",
            "\n",
            "언니네양식당\t\t❌️\t\t🟦\n",
            "\n",
            "\n",
            "청년밥상문간\t\t⭕️\t\t🟥\n",
            "\n",
            "\n",
            "리또리또\t\t⭕️\t\t🟨\n",
            "\n",
            "\n"
          ]
        }
      ],
      "source": [
        "# 이모티콘: ❌️⭕️🔴🔵🟢🟥🟦🟩🟨🚫🪑\n",
        "restaurants = [\n",
        "    {\"name\": \"진돈부리\", \"영업여부\": \"⭕️\", \"대기\": \"🟦\", \"좌석\":\"15\"},\n",
        "    {\"name\": \"모미지   \", \"영업여부\": \"❌️\", \"대기\": \"🟥\", \"좌석\":\"20\"},\n",
        "    {\"name\": \"순희다이닝\", \"영업여부\": \"⭕️\",\"대기\": \"🟦\", \"좌석\":\"25\"},\n",
        "    {\"name\": \"카페티아라\", \"영업여부\": \"❌️\",\"대기\": \"🟨\", \"좌석\":\"13\"},\n",
        "    {\"name\": \"파체리토타코\", \"영업여부\": \"⭕️\",\"대기\": \"🟥\", \"좌석\":\"5\"},\n",
        "    {\"name\": \"낭만식탁\",  \"영업여부\": \"⭕️\",\"대기\": \"🟨\", \"좌석\":\"11\"},\n",
        "    {\"name\": \"연어초밥\", \"영업여부\": \"⭕️\",\"대기\": \"🟥\", \"좌석\":\"13\"},\n",
        "    {\"name\": \"언니네양식당\", \"영업여부\": \"❌️\",\"대기\": \"🟦\", \"좌석\":\"17\"},\n",
        "    {\"name\": \"청년밥상문간\",  \"영업여부\": \"⭕️\",\"대기\": \"🟥\", \"좌석\":\"30\"},\n",
        "    {\"name\": \"리또리또\", \"영업여부\": \"⭕️\",\"대기\": \"🟨\", \"좌석\":\"7\"}\n",
        "]\n",
        "\n",
        "def display_restaurants():\n",
        "    print(\"상호명\\t\\t\\t영업여부\\t대기\")\n",
        "    print(\"*********************************************\\n\")\n",
        "    for restaurant in restaurants:\n",
        "        print(f\"{restaurant['name']}\\t\\t{restaurant['영업여부']}\\t\\t{restaurant['대기']}\")\n",
        "        print(\"\\n\")\n",
        "\n",
        "# Call the function to display the restaurants\n",
        "display_restaurants()\n"
      ]
    },
    {
      "cell_type": "markdown",
      "source": [
        "# 카페 목록 화면"
      ],
      "metadata": {
        "id": "lvR3dxSlmdOg"
      }
    },
    {
      "cell_type": "code",
      "source": [
        "cafes = [\n",
        "    {\"name\": \"드로윙하우스\", \"영업여부\": \"⭕️\", \"대기\": \"🟦\", \"좌석\":\"5\"},\n",
        "    {\"name\": \"이화다방  \", \"영업여부\": \"❌️\", \"대기\": \"🟥\", \"좌석\":\"15\"},\n",
        "    {\"name\": \"벨라프라하\", \"영업여부\": \"⭕️\",\"대기\": \"🟦\", \"좌석\":\"20\"},\n",
        "    {\"name\": \"스타벅스\", \"영업여부\": \"❌️\",\"대기\": \"🟨\", \"좌석\":\"17\"},\n",
        "    {\"name\": \"할리스\\t\", \"영업여부\": \"⭕️\",\"대기\": \"🟥\", \"좌석\":\"11\"},\n",
        "    {\"name\": \"요거프레소\",  \"영업여부\": \"⭕️\",\"대기\": \"🟦\", \"좌석\":\"15\"},\n",
        "    {\"name\": \"스타벅스 리저브\", \"영업여부\": \"⭕️\",\"대기\": \"🟥\", \"좌석\":\"33\"},\n",
        "    {\"name\": \"투썸플레이스\", \"영업여부\": \"❌️\",\"대기\": \"🟨\", \"좌석\":\"40\"},\n",
        "    {\"name\": \"라이프커피\",  \"영업여부\": \"⭕️\",\"대기\": \"🟦\", \"좌석\":\"15\"},\n",
        "    {\"name\": \"공차\\t\", \"영업여부\": \"⭕️\",\"대기\": \"🟨\", \"좌석\":\"23\"}\n",
        "]\n",
        "\n",
        "def display_cafes():\n",
        "    print(\"상호명\\t\\t\\t영업여부\\t대기\")\n",
        "    print(\"*********************************************\\n\")\n",
        "    for cafe in cafes:\n",
        "        print(f\"{cafe['name']}\\t\\t{cafe['영업여부']}\\t\\t{cafe['대기']}\")\n",
        "        print(\"\\n\")\n",
        "\n",
        "# Call the function to display the restaurants\n",
        "display_cafes()\n"
      ],
      "metadata": {
        "colab": {
          "base_uri": "https://localhost:8080/"
        },
        "id": "m-5p650eellt",
        "outputId": "59a6d328-e7a9-4c0f-9004-beb1b2758cf0"
      },
      "execution_count": null,
      "outputs": [
        {
          "output_type": "stream",
          "name": "stdout",
          "text": [
            "상호명\t\t\t영업여부\t대기\n",
            "*********************************************\n",
            "\n",
            "드로윙하우스\t\t⭕️\t\t🟦\n",
            "\n",
            "\n",
            "이화다방  \t\t❌️\t\t🟥\n",
            "\n",
            "\n",
            "벨라프라하\t\t⭕️\t\t🟦\n",
            "\n",
            "\n",
            "스타벅스\t\t❌️\t\t🟨\n",
            "\n",
            "\n",
            "할리스\t\t\t⭕️\t\t🟥\n",
            "\n",
            "\n",
            "요거프레소\t\t⭕️\t\t🟦\n",
            "\n",
            "\n",
            "스타벅스 리저브\t\t⭕️\t\t🟥\n",
            "\n",
            "\n",
            "투썸플레이스\t\t❌️\t\t🟨\n",
            "\n",
            "\n",
            "라이프커피\t\t⭕️\t\t🟦\n",
            "\n",
            "\n",
            "공차\t\t\t⭕️\t\t🟨\n",
            "\n",
            "\n"
          ]
        }
      ]
    },
    {
      "cell_type": "markdown",
      "source": [
        "# 사용자가 실시간으로 대기 정보 갱신"
      ],
      "metadata": {
        "id": "W-VhXs54oFVS"
      }
    },
    {
      "cell_type": "code",
      "source": [
        "def info():\n",
        "  print(\"\\n*********************************************\\n\")\n",
        "  print('\\n🟥: 1시간 이상 대기(상)\\n')\n",
        "  print('🟨: 30분 이상 1시간 미만 대기(중)\\n')\n",
        "  print('🟦: 5분 이상 30분 미만 대기(하)\\n\\n')\n",
        "  print(\"*********************************************\\n\")\n",
        "\n",
        "def find_restaurant(desired_name):\n",
        "  for restaurant in restaurants:\n",
        "    if restaurant[\"name\"] == desired_name:\n",
        "        found_index=restaurant\n",
        "        return restaurant\n",
        "\n",
        "def update(rest_name, status):\n",
        "  request=find_restaurant(rest_name)\n",
        "  if status == '상':\n",
        "    request[\"대기\"]=\"🟥\"\n",
        "  elif status=='중':\n",
        "    request[\"대기\"]=\"🟨\"\n",
        "  else:\n",
        "    request[\"대기\"]=\"🟦\"\n",
        "  print(f'\\n{request[\"name\"]}의 대기 정보가 수정되었습니다: \\n')\n",
        "  print(\"상호명\\t\\t\\t영업여부\\t대기\\n\")\n",
        "  print(f\"{request['name']}\\t\\t{request['영업여부']}\\t\\t{request['대기']}\")\n",
        "  print(\"\\n*********************************************\\n\")\n",
        "\n",
        "while True:\n",
        "  restaurant_name=input('상호명을 입력해주세요 예) 모미지: ')\n",
        "  choice=input('\\n대기정보를 수정하시겠습니까? ( Y | N ) : ')\n",
        "  if choice=='N':\n",
        "    break\n",
        "  else:\n",
        "    info()\n",
        "    change=input('현재 대기 상태를 입력해주세요 (상,중,하): ')\n",
        "    update(restaurant_name,change)\n",
        "  choice=input('\\n정보 수정을 계속하시겠습니까? ( Y | N) : ')\n",
        "  if choice =='Y':\n",
        "    continue\n",
        "  else:\n",
        "    print('\\n정보 수정을 종료합니다.')\n",
        "    break\n",
        ""
      ],
      "metadata": {
        "colab": {
          "base_uri": "https://localhost:8080/"
        },
        "id": "XsxFnLX14F0C",
        "outputId": "86932323-2989-4094-fc2b-b8cfefe67638"
      },
      "execution_count": null,
      "outputs": [
        {
          "output_type": "stream",
          "name": "stdout",
          "text": [
            "상호명을 입력해주세요 예) 모미지: 진돈부리\n",
            "\n",
            "대기정보를 수정하시겠습니까? ( Y | N ) : Y\n",
            "\n",
            "*********************************************\n",
            "\n",
            "\n",
            "🟥: 1시간 이상 대기(상)\n",
            "\n",
            "🟨: 30분 이상 1시간 미만 대기(중)\n",
            "\n",
            "🟦: 5분 이상 30분 미만 대기(하)\n",
            "\n",
            "\n",
            "*********************************************\n",
            "\n",
            "현재 대기 상태를 입력해주세요 (상,중,하): 중\n",
            "\n",
            "진돈부리의 대기 정보가 수정되었습니다: \n",
            "\n",
            "상호명\t\t\t영업여부\t대기\n",
            "\n",
            "진돈부리\t\t⭕️\t\t🟨\n",
            "\n",
            "*********************************************\n",
            "\n",
            "\n",
            "정보 수정을 계속하시겠습니까? ( Y | N) : N\n",
            "\n",
            "정보 수정을 종료합니다.\n"
          ]
        }
      ]
    },
    {
      "cell_type": "markdown",
      "source": [
        "# 점주가 관리자모드로 공지 등록"
      ],
      "metadata": {
        "id": "xp_1bVfb1Uyf"
      }
    },
    {
      "cell_type": "code",
      "source": [
        "# 관리자 모드 ID: admin\n",
        "# 관리자 모드 PW: 1234\n",
        "inputID=input('아이디를 입력하세요: ')\n",
        "inputPW=input('\\n비밀번호를 입력하세요: ')\n",
        "\n",
        "if inputID=='admin'and inputPW=='1234':\n",
        "  print('\\n관리자 모드로 로그인되었습니다.\\n')\n",
        "  myRestaurant=input('매장을 입력해주세요: ')\n",
        "  myPlace=find_restaurant(myRestaurant)\n",
        "  answer=input('\\n새로운 공지를 올리시겠습니까? (Y | N): ')\n",
        "  if answer=='Y':\n",
        "    print(\"\\n*************************************************************\\n\")\n",
        "    print('1. 현재 대기 없이 바로 식사가 가능합니다.\\n')\n",
        "    print('2. 곧 브레이크타임이 시작됩니다.\\n')\n",
        "    print('3. 곧 브레이크타임이 종료됩니다.\\n')\n",
        "    print('4. 재료소진으로 인해 영업종료합니다.\\n')\n",
        "    print('5. 금일 영업하지 않습니다.')\n",
        "    print(\"\\n*************************************************************\\n\")\n",
        "    msg=int(input('공지할 내용을 위에서 골라주세요 (1,2,3,4,5 중 택 1): '))\n",
        "    print(\"\\n*************************************************************\\n\")\n",
        "    print(f'{myPlace[\"name\"]}에 새로운 공지가 등록되었습니다: \\n')\n",
        "    if msg==1:\n",
        "      print('<현재 대기 없이 바로 식사가 가능합니다>\\n')\n",
        "    elif msg==2:\n",
        "      print('<곧 브레이크타임이 시작됩니다>\\n')\n",
        "    elif msg==3:\n",
        "      print('<곧 브레이크타임이 종료됩니다>\\n')\n",
        "    elif msg==4:\n",
        "      print('<재료소진으로 인해 영업종료합니다>\\n')\n",
        "    else:\n",
        "      print('<금일 영업하지 않습니다>\\n')\n",
        "else:\n",
        "  print('정상 로그인되었습니다.')\n",
        "\n",
        "\n",
        "\n",
        ""
      ],
      "metadata": {
        "id": "xQzIuw251cjr",
        "colab": {
          "base_uri": "https://localhost:8080/"
        },
        "outputId": "53cc64e6-4da0-4cc8-bbc3-9184de84afcc"
      },
      "execution_count": null,
      "outputs": [
        {
          "output_type": "stream",
          "name": "stdout",
          "text": [
            "아이디를 입력하세요: admin\n",
            "\n",
            "비밀번호를 입력하세요: 1234\n",
            "\n",
            "관리자 모드로 로그인되었습니다.\n",
            "\n",
            "매장을 입력해주세요: 진돈부리\n",
            "\n",
            "새로운 공지를 올리시겠습니까? (Y | N): Y\n",
            "\n",
            "*************************************************************\n",
            "\n",
            "1. 현재 대기 없이 바로 식사가 가능합니다.\n",
            "\n",
            "2. 곧 브레이크타임이 시작됩니다.\n",
            "\n",
            "3. 곧 브레이크타임이 종료됩니다.\n",
            "\n",
            "4. 재료소진으로 인해 영업종료합니다.\n",
            "\n",
            "5. 금일 영업하지 않습니다.\n",
            "\n",
            "*************************************************************\n",
            "\n",
            "공지할 내용을 위에서 골라주세요 (1,2,3,4,5 중 택 1): 3\n",
            "\n",
            "*************************************************************\n",
            "\n",
            "진돈부리에 새로운 공지가 등록되었습니다: \n",
            "\n",
            "<곧 브레이크타임이 종료됩니다>\n",
            "\n"
          ]
        }
      ]
    },
    {
      "cell_type": "markdown",
      "source": [
        "# 종합 정보 제공 화면 (식당이나 카페 이름을 누르면 보이는 화면)"
      ],
      "metadata": {
        "id": "tS4-w52lGbl-"
      }
    },
    {
      "cell_type": "code",
      "source": [
        "# UI 버튼을 눌렀다고 가정\n",
        "# 좌석 수도 화면에 제시\n",
        "desiredRest=input('식당을 선택해주세요: ')\n",
        "myRest=find_restaurant(desiredRest)\n",
        "print(\"\\n\\n상호명\\t\\t\\t영업여부\\t대기\\t좌석\")\n",
        "print(\"****************************************************\\n\")\n",
        "print(f\"{myRest['name']}\\t\\t{myRest['영업여부']}\\t\\t{myRest['대기']}\\t{myRest['좌석']}\")\n"
      ],
      "metadata": {
        "colab": {
          "base_uri": "https://localhost:8080/"
        },
        "id": "8xwCQhSBGgfI",
        "outputId": "9085f1f2-303d-4112-db26-868a3361c601"
      },
      "execution_count": null,
      "outputs": [
        {
          "output_type": "stream",
          "name": "stdout",
          "text": [
            "식당을 선택해주세요: 진돈부리\n",
            "\n",
            "\n",
            "상호명\t\t\t영업여부\t대기\t좌석\n",
            "****************************************************\n",
            "\n",
            "진돈부리\t\t⭕️\t\t🟦\t15\n"
          ]
        }
      ]
    }
  ]
}